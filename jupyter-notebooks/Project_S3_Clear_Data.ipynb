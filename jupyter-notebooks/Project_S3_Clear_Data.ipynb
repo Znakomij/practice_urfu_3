{
 "cells": [
  {
   "cell_type": "markdown",
   "metadata": {},
   "source": [
    "# Подготовка данных для Проектного практикума - Учебная задача (семестр 3)"
   ]
  },
  {
   "cell_type": "markdown",
   "metadata": {},
   "source": [
    "## Установка зависимостей (если ранее не установлены)"
   ]
  },
  {
   "cell_type": "code",
   "execution_count": 1,
   "metadata": {},
   "outputs": [],
   "source": [
    "# Установка основных зависимостей\n",
    "# %pip install pandas num2words wget"
   ]
  },
  {
   "cell_type": "code",
   "execution_count": 2,
   "metadata": {},
   "outputs": [],
   "source": [
    "# Установка зависимостей для блокнота\n",
    "# %pip install ipywidgets jupyter IProgress tqdm "
   ]
  },
  {
   "cell_type": "markdown",
   "metadata": {},
   "source": [
    "## Импорты, константы и настройки"
   ]
  },
  {
   "cell_type": "code",
   "execution_count": 1,
   "metadata": {},
   "outputs": [],
   "source": [
    "# Импорт библиотек \n",
    "import os\n",
    "import pathlib\n",
    "import re\n",
    "import wget\n",
    "\n",
    "import pandas as pd\n",
    "\n",
    "from num2words import num2words # Числа в текст\n",
    "\n",
    "from tqdm import tqdm   # Прогресс бар"
   ]
  },
  {
   "cell_type": "code",
   "execution_count": 4,
   "metadata": {},
   "outputs": [],
   "source": [
    "# Константы\n",
    "DATASET_URL: str = 'https://github.com/yandex/geo-reviews-dataset-2023/raw/refs/heads/master/geo-reviews-dataset-2023.tskv?download='\n",
    "\n",
    "RAW_DATASET_PATH: str = '.././data/raw'            # '..' из-за того, что блокнот не руте\n",
    "PARSED_DATASET_PATH: str = '.././data/parsed'      # '..' из-за того, что блокнот не руте\n",
    "CLEARED_DATASET_PATH: str = '.././data/cleared'    # '..' из-за того, что блокнот не руте"
   ]
  },
  {
   "cell_type": "code",
   "execution_count": 5,
   "metadata": {},
   "outputs": [
    {
     "name": "stdout",
     "output_type": "stream",
     "text": [
      "Путь ./data/raw создан/существует: True\n",
      "Путь ./data/parsed создан/существует: True\n",
      "Путь ./data/cleared создан/существует: True\n"
     ]
    }
   ],
   "source": [
    "# Создание структуры каталогов для данных\n",
    "def create_paths(fullpath: str) -> bool:\n",
    "    '''Создание каталогов с подкаталогами'''\n",
    "    os.makedirs(fullpath, exist_ok=True)\n",
    "    return os.path.exists(fullpath)\n",
    "\n",
    "print(f'Путь {RAW_DATASET_PATH} создан/существует: {create_paths(RAW_DATASET_PATH)}')\n",
    "print(f'Путь {PARSED_DATASET_PATH} создан/существует: {create_paths(PARSED_DATASET_PATH)}')\n",
    "print(f'Путь {CLEARED_DATASET_PATH} создан/существует: {create_paths(CLEARED_DATASET_PATH)}')"
   ]
  },
  {
   "cell_type": "code",
   "execution_count": 66,
   "metadata": {},
   "outputs": [],
   "source": [
    "# Импорт програссбара для Pandas\n",
    "tqdm.pandas()"
   ]
  },
  {
   "cell_type": "markdown",
   "metadata": {},
   "source": [
    "## Загрузка данных\n",
    "\n",
    "Можно закомментировать после первого запуска"
   ]
  },
  {
   "cell_type": "code",
   "execution_count": 8,
   "metadata": {},
   "outputs": [
    {
     "name": "stdout",
     "output_type": "stream",
     "text": [
      "Загрузка: 100% [378730064 / 378730064] байт\n",
      "\n",
      " Файл датасета сохранен в: data\\raw\\geo-reviews-dataset-2023.tskv\n"
     ]
    }
   ],
   "source": [
    "# Загрузка данных\n",
    "def bar_progress(current, total, width=80):\n",
    "    '''Функция прогрессбара загрузки'''\n",
    "    import sys\n",
    "    progress_message = \"Загрузка: %d%% [%d / %d] байт\" % (current / total * 100, current, total)\n",
    "    sys.stdout.write(\"\\r\" + progress_message)\n",
    "    sys.stdout.flush()\n",
    "\n",
    "raw_dataset_path: str = wget.download(\n",
    "    url=DATASET_URL,\n",
    "    out=RAW_DATASET_PATH,\n",
    "    bar=bar_progress)\n",
    "\n",
    "raw_dataset_path: pathlib.Path = pathlib.Path(raw_dataset_path)\n",
    "\n",
    "print(f'\\n\\n Файл датасета сохранен в: {raw_dataset_path}')"
   ]
  },
  {
   "cell_type": "code",
   "execution_count": 10,
   "metadata": {},
   "outputs": [
    {
     "name": "stdout",
     "output_type": "stream",
     "text": [
      "Путь к сырому датасету: data\\raw\\geo-reviews-dataset-2023.tskv\n"
     ]
    }
   ],
   "source": [
    "# Путь к файлу и имя файла формируется выше если данные скачаны,\n",
    "# но если не скачаны или закомментировано, то надо найти вручную\n",
    "if 'raw_dataset_path' not in globals():\n",
    "    raw_dataset_path = None # Такой хак для линтера\n",
    "    globals()['raw_dataset_path'] = None\n",
    "\n",
    "if not raw_dataset_path:\n",
    "    files = pathlib.Path(RAW_DATASET_PATH).glob('*.tskv')\n",
    "    if not files:\n",
    "        raise RuntimeError('Данных с расширением tskv не найдено')\n",
    "    raw_dataset_path: pathlib.Path = list(files)[0]\n",
    "\n",
    "print(f'Путь к сырому датасету: {raw_dataset_path}')"
   ]
  },
  {
   "cell_type": "markdown",
   "metadata": {},
   "source": [
    "## Чтение данных"
   ]
  },
  {
   "cell_type": "code",
   "execution_count": 36,
   "metadata": {},
   "outputs": [],
   "source": [
    "## Функция парсинга формата tskv\n",
    "def read_tskv(filepath: pathlib.Path) -> list[dict[str, str]]:\n",
    "    '''Парсинг файлов формата tskv'''\n",
    "\n",
    "    if not str(filepath).lower().endswith('tskv'):\n",
    "        raise RuntimeError(f'Формат файла {str(filepath)} не подходит')\n",
    "    \n",
    "    data: list[dict[str, str]] = list()\n",
    "    try:\n",
    "        with open(filepath, 'r', encoding='utf-8') as tskv_file:\n",
    "            for line in tskv_file:\n",
    "                # Удаление пробелов и проспусков строк\n",
    "                line = line.strip()\n",
    "                if not line:\n",
    "                    continue\n",
    "\n",
    "                # Пара ключ-значение: разбиваем по табуляции \n",
    "                # и затем по знаку равенства\n",
    "                record: dict[str, str] = {}\n",
    "                fields = line.split('\\t')\n",
    "                for field in fields:\n",
    "                    if '=' in field:\n",
    "                        key, value = field.split('=', 1)\n",
    "                        record[key] = value\n",
    "                data.append(record)\n",
    "    except Exception as e:\n",
    "        print(f\"Ошибка при чтении файла: {e}\")\n",
    "    return data"
   ]
  },
  {
   "cell_type": "code",
   "execution_count": 37,
   "metadata": {},
   "outputs": [
    {
     "name": "stdout",
     "output_type": "stream",
     "text": [
      "<class 'pandas.core.frame.DataFrame'>\n",
      "RangeIndex: 500000 entries, 0 to 499999\n",
      "Data columns (total 5 columns):\n",
      " #   Column   Non-Null Count   Dtype \n",
      "---  ------   --------------   ----- \n",
      " 0   address  500000 non-null  object\n",
      " 1   name_ru  499030 non-null  object\n",
      " 2   rating   500000 non-null  object\n",
      " 3   rubrics  500000 non-null  object\n",
      " 4   text     500000 non-null  object\n",
      "dtypes: object(5)\n",
      "memory usage: 19.1+ MB\n"
     ]
    }
   ],
   "source": [
    "# Чтение файла и получение DataFrame\n",
    "df_data: pd.DataFrame = pd.DataFrame(read_tskv(raw_dataset_path))\n",
    "df_data.info()"
   ]
  },
  {
   "cell_type": "code",
   "execution_count": 38,
   "metadata": {},
   "outputs": [
    {
     "data": {
      "text/html": [
       "<div>\n",
       "<style scoped>\n",
       "    .dataframe tbody tr th:only-of-type {\n",
       "        vertical-align: middle;\n",
       "    }\n",
       "\n",
       "    .dataframe tbody tr th {\n",
       "        vertical-align: top;\n",
       "    }\n",
       "\n",
       "    .dataframe thead th {\n",
       "        text-align: right;\n",
       "    }\n",
       "</style>\n",
       "<table border=\"1\" class=\"dataframe\">\n",
       "  <thead>\n",
       "    <tr style=\"text-align: right;\">\n",
       "      <th></th>\n",
       "      <th>address</th>\n",
       "      <th>name_ru</th>\n",
       "      <th>rating</th>\n",
       "      <th>rubrics</th>\n",
       "      <th>text</th>\n",
       "    </tr>\n",
       "  </thead>\n",
       "  <tbody>\n",
       "    <tr>\n",
       "      <th>0</th>\n",
       "      <td>Екатеринбург, ул. Московская / ул. Волгоградск...</td>\n",
       "      <td>Московский квартал</td>\n",
       "      <td>3.</td>\n",
       "      <td>Жилой комплекс</td>\n",
       "      <td>Московский квартал 2.\\nШумно : летом по ночам ...</td>\n",
       "    </tr>\n",
       "    <tr>\n",
       "      <th>1</th>\n",
       "      <td>Московская область, Электросталь, проспект Лен...</td>\n",
       "      <td>Продукты Ермолино</td>\n",
       "      <td>5.</td>\n",
       "      <td>Магазин продуктов;Продукты глубокой заморозки;...</td>\n",
       "      <td>Замечательная сеть магазинов в общем, хороший ...</td>\n",
       "    </tr>\n",
       "    <tr>\n",
       "      <th>2</th>\n",
       "      <td>Краснодар, Прикубанский внутригородской округ,...</td>\n",
       "      <td>LimeFit</td>\n",
       "      <td>1.</td>\n",
       "      <td>Фитнес-клуб</td>\n",
       "      <td>Не знаю смутят ли кого-то данные правила, но я...</td>\n",
       "    </tr>\n",
       "    <tr>\n",
       "      <th>3</th>\n",
       "      <td>Санкт-Петербург, проспект Энгельса, 111, корп. 1</td>\n",
       "      <td>Snow-Express</td>\n",
       "      <td>4.</td>\n",
       "      <td>Пункт проката;Прокат велосипедов;Сапсёрфинг</td>\n",
       "      <td>Хорошие условия аренды. \\nДружелюбный персонал...</td>\n",
       "    </tr>\n",
       "    <tr>\n",
       "      <th>4</th>\n",
       "      <td>Тверь, Волоколамский проспект, 39</td>\n",
       "      <td>Студия Beauty Brow</td>\n",
       "      <td>5.</td>\n",
       "      <td>Салон красоты;Визажисты, стилисты;Салон бровей...</td>\n",
       "      <td>Топ мастер Ангелина топ во всех смыслах ) Немн...</td>\n",
       "    </tr>\n",
       "  </tbody>\n",
       "</table>\n",
       "</div>"
      ],
      "text/plain": [
       "                                             address             name_ru  \\\n",
       "0  Екатеринбург, ул. Московская / ул. Волгоградск...  Московский квартал   \n",
       "1  Московская область, Электросталь, проспект Лен...   Продукты Ермолино   \n",
       "2  Краснодар, Прикубанский внутригородской округ,...             LimeFit   \n",
       "3   Санкт-Петербург, проспект Энгельса, 111, корп. 1        Snow-Express   \n",
       "4                  Тверь, Волоколамский проспект, 39  Студия Beauty Brow   \n",
       "\n",
       "  rating                                            rubrics  \\\n",
       "0     3.                                     Жилой комплекс   \n",
       "1     5.  Магазин продуктов;Продукты глубокой заморозки;...   \n",
       "2     1.                                        Фитнес-клуб   \n",
       "3     4.        Пункт проката;Прокат велосипедов;Сапсёрфинг   \n",
       "4     5.  Салон красоты;Визажисты, стилисты;Салон бровей...   \n",
       "\n",
       "                                                text  \n",
       "0  Московский квартал 2.\\nШумно : летом по ночам ...  \n",
       "1  Замечательная сеть магазинов в общем, хороший ...  \n",
       "2  Не знаю смутят ли кого-то данные правила, но я...  \n",
       "3  Хорошие условия аренды. \\nДружелюбный персонал...  \n",
       "4  Топ мастер Ангелина топ во всех смыслах ) Немн...  "
      ]
     },
     "execution_count": 38,
     "metadata": {},
     "output_type": "execute_result"
    }
   ],
   "source": [
    "# Что внутри\n",
    "df_data.head()"
   ]
  },
  {
   "cell_type": "code",
   "execution_count": 39,
   "metadata": {},
   "outputs": [],
   "source": [
    "# Сохранение распарсенного датасета\n",
    "df_data.to_csv(\n",
    "    os.path.join(PARSED_DATASET_PATH, 'parsed_data.csv'),\n",
    "    sep=';',\n",
    "    encoding='utf-8-sig',\n",
    "    index_label='indx')"
   ]
  },
  {
   "cell_type": "markdown",
   "metadata": {},
   "source": [
    "## Очистка данных"
   ]
  },
  {
   "cell_type": "code",
   "execution_count": 40,
   "metadata": {},
   "outputs": [
    {
     "data": {
      "text/html": [
       "<div>\n",
       "<style scoped>\n",
       "    .dataframe tbody tr th:only-of-type {\n",
       "        vertical-align: middle;\n",
       "    }\n",
       "\n",
       "    .dataframe tbody tr th {\n",
       "        vertical-align: top;\n",
       "    }\n",
       "\n",
       "    .dataframe thead th {\n",
       "        text-align: right;\n",
       "    }\n",
       "</style>\n",
       "<table border=\"1\" class=\"dataframe\">\n",
       "  <thead>\n",
       "    <tr style=\"text-align: right;\">\n",
       "      <th></th>\n",
       "      <th>rating</th>\n",
       "      <th>rubrics</th>\n",
       "      <th>text</th>\n",
       "    </tr>\n",
       "  </thead>\n",
       "  <tbody>\n",
       "    <tr>\n",
       "      <th>0</th>\n",
       "      <td>3.</td>\n",
       "      <td>Жилой комплекс</td>\n",
       "      <td>Московский квартал 2.\\nШумно : летом по ночам ...</td>\n",
       "    </tr>\n",
       "    <tr>\n",
       "      <th>1</th>\n",
       "      <td>5.</td>\n",
       "      <td>Магазин продуктов;Продукты глубокой заморозки;...</td>\n",
       "      <td>Замечательная сеть магазинов в общем, хороший ...</td>\n",
       "    </tr>\n",
       "    <tr>\n",
       "      <th>2</th>\n",
       "      <td>1.</td>\n",
       "      <td>Фитнес-клуб</td>\n",
       "      <td>Не знаю смутят ли кого-то данные правила, но я...</td>\n",
       "    </tr>\n",
       "    <tr>\n",
       "      <th>3</th>\n",
       "      <td>4.</td>\n",
       "      <td>Пункт проката;Прокат велосипедов;Сапсёрфинг</td>\n",
       "      <td>Хорошие условия аренды. \\nДружелюбный персонал...</td>\n",
       "    </tr>\n",
       "    <tr>\n",
       "      <th>4</th>\n",
       "      <td>5.</td>\n",
       "      <td>Салон красоты;Визажисты, стилисты;Салон бровей...</td>\n",
       "      <td>Топ мастер Ангелина топ во всех смыслах ) Немн...</td>\n",
       "    </tr>\n",
       "  </tbody>\n",
       "</table>\n",
       "</div>"
      ],
      "text/plain": [
       "  rating                                            rubrics  \\\n",
       "0     3.                                     Жилой комплекс   \n",
       "1     5.  Магазин продуктов;Продукты глубокой заморозки;...   \n",
       "2     1.                                        Фитнес-клуб   \n",
       "3     4.        Пункт проката;Прокат велосипедов;Сапсёрфинг   \n",
       "4     5.  Салон красоты;Визажисты, стилисты;Салон бровей...   \n",
       "\n",
       "                                                text  \n",
       "0  Московский квартал 2.\\nШумно : летом по ночам ...  \n",
       "1  Замечательная сеть магазинов в общем, хороший ...  \n",
       "2  Не знаю смутят ли кого-то данные правила, но я...  \n",
       "3  Хорошие условия аренды. \\nДружелюбный персонал...  \n",
       "4  Топ мастер Ангелина топ во всех смыслах ) Немн...  "
      ]
     },
     "execution_count": 40,
     "metadata": {},
     "output_type": "execute_result"
    }
   ],
   "source": [
    "# Адрес и имя заведения нам не важно (скорее всего!)\n",
    "df_data_clear = df_data.drop(['address', 'name_ru'], axis=1)\n",
    "df_data_clear.head(n=5)"
   ]
  },
  {
   "cell_type": "code",
   "execution_count": 41,
   "metadata": {},
   "outputs": [
    {
     "data": {
      "text/plain": [
       "rating     0\n",
       "rubrics    0\n",
       "text       0\n",
       "dtype: int64"
      ]
     },
     "execution_count": 41,
     "metadata": {},
     "output_type": "execute_result"
    }
   ],
   "source": [
    "# Получение количества пропусков\n",
    "df_data_clear.isna().sum()"
   ]
  },
  {
   "cell_type": "markdown",
   "metadata": {},
   "source": [
    "### Обработка рейтинга (оценок)"
   ]
  },
  {
   "cell_type": "code",
   "execution_count": 42,
   "metadata": {},
   "outputs": [],
   "source": [
    "# Константы\n",
    "CLEAR_RATING_PATTERN: str = r'[^0-9]+'"
   ]
  },
  {
   "cell_type": "code",
   "execution_count": 43,
   "metadata": {},
   "outputs": [],
   "source": [
    "# Функция удаления лишьних символов в рейтинге\n",
    "def clear_rating(rating) -> int:\n",
    "    if type(rating) is int:\n",
    "        return rating\n",
    "    if not rating: \n",
    "        return 0\n",
    "    # Удаление лишьних символов\n",
    "    val_str = re.sub(CLEAR_RATING_PATTERN, '', rating)\n",
    "    if not val_str:\n",
    "        return 0\n",
    "    return int(val_str)"
   ]
  },
  {
   "cell_type": "code",
   "execution_count": 44,
   "metadata": {},
   "outputs": [
    {
     "data": {
      "text/html": [
       "<div>\n",
       "<style scoped>\n",
       "    .dataframe tbody tr th:only-of-type {\n",
       "        vertical-align: middle;\n",
       "    }\n",
       "\n",
       "    .dataframe tbody tr th {\n",
       "        vertical-align: top;\n",
       "    }\n",
       "\n",
       "    .dataframe thead th {\n",
       "        text-align: right;\n",
       "    }\n",
       "</style>\n",
       "<table border=\"1\" class=\"dataframe\">\n",
       "  <thead>\n",
       "    <tr style=\"text-align: right;\">\n",
       "      <th></th>\n",
       "      <th>rating</th>\n",
       "      <th>rubrics</th>\n",
       "      <th>text</th>\n",
       "      <th>rating_int</th>\n",
       "    </tr>\n",
       "  </thead>\n",
       "  <tbody>\n",
       "    <tr>\n",
       "      <th>0</th>\n",
       "      <td>3.</td>\n",
       "      <td>Жилой комплекс</td>\n",
       "      <td>Московский квартал 2.\\nШумно : летом по ночам ...</td>\n",
       "      <td>3</td>\n",
       "    </tr>\n",
       "    <tr>\n",
       "      <th>1</th>\n",
       "      <td>5.</td>\n",
       "      <td>Магазин продуктов;Продукты глубокой заморозки;...</td>\n",
       "      <td>Замечательная сеть магазинов в общем, хороший ...</td>\n",
       "      <td>5</td>\n",
       "    </tr>\n",
       "    <tr>\n",
       "      <th>2</th>\n",
       "      <td>1.</td>\n",
       "      <td>Фитнес-клуб</td>\n",
       "      <td>Не знаю смутят ли кого-то данные правила, но я...</td>\n",
       "      <td>1</td>\n",
       "    </tr>\n",
       "    <tr>\n",
       "      <th>3</th>\n",
       "      <td>4.</td>\n",
       "      <td>Пункт проката;Прокат велосипедов;Сапсёрфинг</td>\n",
       "      <td>Хорошие условия аренды. \\nДружелюбный персонал...</td>\n",
       "      <td>4</td>\n",
       "    </tr>\n",
       "    <tr>\n",
       "      <th>4</th>\n",
       "      <td>5.</td>\n",
       "      <td>Салон красоты;Визажисты, стилисты;Салон бровей...</td>\n",
       "      <td>Топ мастер Ангелина топ во всех смыслах ) Немн...</td>\n",
       "      <td>5</td>\n",
       "    </tr>\n",
       "  </tbody>\n",
       "</table>\n",
       "</div>"
      ],
      "text/plain": [
       "  rating                                            rubrics  \\\n",
       "0     3.                                     Жилой комплекс   \n",
       "1     5.  Магазин продуктов;Продукты глубокой заморозки;...   \n",
       "2     1.                                        Фитнес-клуб   \n",
       "3     4.        Пункт проката;Прокат велосипедов;Сапсёрфинг   \n",
       "4     5.  Салон красоты;Визажисты, стилисты;Салон бровей...   \n",
       "\n",
       "                                                text  rating_int  \n",
       "0  Московский квартал 2.\\nШумно : летом по ночам ...           3  \n",
       "1  Замечательная сеть магазинов в общем, хороший ...           5  \n",
       "2  Не знаю смутят ли кого-то данные правила, но я...           1  \n",
       "3  Хорошие условия аренды. \\nДружелюбный персонал...           4  \n",
       "4  Топ мастер Ангелина топ во всех смыслах ) Немн...           5  "
      ]
     },
     "execution_count": 44,
     "metadata": {},
     "output_type": "execute_result"
    }
   ],
   "source": [
    "# Очистка и подготовка рейтинга\n",
    "df_data_clear['rating_int'] = df_data_clear['rating'].apply(clear_rating)\n",
    "df_data_clear = df_data_clear[df_data_clear['rating_int'] > 0]\n",
    "df_data_clear.head()"
   ]
  },
  {
   "cell_type": "markdown",
   "metadata": {},
   "source": [
    "### Обработка рубрик"
   ]
  },
  {
   "cell_type": "code",
   "execution_count": 45,
   "metadata": {},
   "outputs": [],
   "source": [
    "# Константы\n",
    "RUBRICS_SPLIT_SYMBOLS: str = r'[;,]'\n",
    "CLEAR_RUBRIC_SYMBOLS: str = r'[^а-яА-Яa-zA-Z0-9ёЁ ]'"
   ]
  },
  {
   "cell_type": "code",
   "execution_count": 46,
   "metadata": {},
   "outputs": [],
   "source": [
    "# Функция разделения рубрик в список\n",
    "def clear_rubrics(rubrics: str) -> list[str]:\n",
    "    rubrics_list: list[str] = re.split(RUBRICS_SPLIT_SYMBOLS, rubrics)\n",
    "    for i in range(len(rubrics_list)):\n",
    "        rubrics_list[i] = rubrics_list[i] \\\n",
    "            .lower() \\\n",
    "            .replace(\"\\\\n\", \" \") \\\n",
    "            .replace(\"\\\\r\", \" \")\n",
    "        rubrics_list[i] = re.sub(CLEAR_RUBRIC_SYMBOLS, \" \", rubrics_list[i])\n",
    "        rubrics_list[i] = re.sub(r\"\\s+\", \" \", rubrics_list[i]).strip()\n",
    "    return rubrics_list"
   ]
  },
  {
   "cell_type": "code",
   "execution_count": 47,
   "metadata": {},
   "outputs": [
    {
     "data": {
      "text/html": [
       "<div>\n",
       "<style scoped>\n",
       "    .dataframe tbody tr th:only-of-type {\n",
       "        vertical-align: middle;\n",
       "    }\n",
       "\n",
       "    .dataframe tbody tr th {\n",
       "        vertical-align: top;\n",
       "    }\n",
       "\n",
       "    .dataframe thead th {\n",
       "        text-align: right;\n",
       "    }\n",
       "</style>\n",
       "<table border=\"1\" class=\"dataframe\">\n",
       "  <thead>\n",
       "    <tr style=\"text-align: right;\">\n",
       "      <th></th>\n",
       "      <th>rating</th>\n",
       "      <th>rubrics</th>\n",
       "      <th>text</th>\n",
       "      <th>rating_int</th>\n",
       "      <th>rubrics_list</th>\n",
       "    </tr>\n",
       "  </thead>\n",
       "  <tbody>\n",
       "    <tr>\n",
       "      <th>0</th>\n",
       "      <td>3.</td>\n",
       "      <td>Жилой комплекс</td>\n",
       "      <td>Московский квартал 2.\\nШумно : летом по ночам ...</td>\n",
       "      <td>3</td>\n",
       "      <td>[жилой комплекс]</td>\n",
       "    </tr>\n",
       "    <tr>\n",
       "      <th>1</th>\n",
       "      <td>5.</td>\n",
       "      <td>Магазин продуктов;Продукты глубокой заморозки;...</td>\n",
       "      <td>Замечательная сеть магазинов в общем, хороший ...</td>\n",
       "      <td>5</td>\n",
       "      <td>[магазин продуктов, продукты глубокой заморозк...</td>\n",
       "    </tr>\n",
       "    <tr>\n",
       "      <th>2</th>\n",
       "      <td>1.</td>\n",
       "      <td>Фитнес-клуб</td>\n",
       "      <td>Не знаю смутят ли кого-то данные правила, но я...</td>\n",
       "      <td>1</td>\n",
       "      <td>[фитнес клуб]</td>\n",
       "    </tr>\n",
       "    <tr>\n",
       "      <th>3</th>\n",
       "      <td>4.</td>\n",
       "      <td>Пункт проката;Прокат велосипедов;Сапсёрфинг</td>\n",
       "      <td>Хорошие условия аренды. \\nДружелюбный персонал...</td>\n",
       "      <td>4</td>\n",
       "      <td>[пункт проката, прокат велосипедов, сапсёрфинг]</td>\n",
       "    </tr>\n",
       "    <tr>\n",
       "      <th>4</th>\n",
       "      <td>5.</td>\n",
       "      <td>Салон красоты;Визажисты, стилисты;Салон бровей...</td>\n",
       "      <td>Топ мастер Ангелина топ во всех смыслах ) Немн...</td>\n",
       "      <td>5</td>\n",
       "      <td>[салон красоты, визажисты, стилисты, салон бро...</td>\n",
       "    </tr>\n",
       "  </tbody>\n",
       "</table>\n",
       "</div>"
      ],
      "text/plain": [
       "  rating                                            rubrics  \\\n",
       "0     3.                                     Жилой комплекс   \n",
       "1     5.  Магазин продуктов;Продукты глубокой заморозки;...   \n",
       "2     1.                                        Фитнес-клуб   \n",
       "3     4.        Пункт проката;Прокат велосипедов;Сапсёрфинг   \n",
       "4     5.  Салон красоты;Визажисты, стилисты;Салон бровей...   \n",
       "\n",
       "                                                text  rating_int  \\\n",
       "0  Московский квартал 2.\\nШумно : летом по ночам ...           3   \n",
       "1  Замечательная сеть магазинов в общем, хороший ...           5   \n",
       "2  Не знаю смутят ли кого-то данные правила, но я...           1   \n",
       "3  Хорошие условия аренды. \\nДружелюбный персонал...           4   \n",
       "4  Топ мастер Ангелина топ во всех смыслах ) Немн...           5   \n",
       "\n",
       "                                        rubrics_list  \n",
       "0                                   [жилой комплекс]  \n",
       "1  [магазин продуктов, продукты глубокой заморозк...  \n",
       "2                                      [фитнес клуб]  \n",
       "3    [пункт проката, прокат велосипедов, сапсёрфинг]  \n",
       "4  [салон красоты, визажисты, стилисты, салон бро...  "
      ]
     },
     "execution_count": 47,
     "metadata": {},
     "output_type": "execute_result"
    }
   ],
   "source": [
    "# Очистка и подготовка рубрик\n",
    "df_data_clear['rubrics_list'] = df_data_clear['rubrics'].apply(clear_rubrics)\n",
    "df_data_clear.head()"
   ]
  },
  {
   "cell_type": "markdown",
   "metadata": {},
   "source": [
    "### Обработка текста"
   ]
  },
  {
   "cell_type": "code",
   "execution_count": 48,
   "metadata": {},
   "outputs": [],
   "source": [
    "# Константы для обработки дат\n",
    "CLEAR_DATA_PATTERN_1: str = r'[\\b]*((0?[1-9]|[12][0-9]|3[01])[-/.](0?[1-9]|1[0-2])[-/.]((19|20)?\\d{2}))(г|г\\.|год|год\\.)?[\\b]*'     # 17.12.2022\n",
    "CLEAR_DATA_PATTERN_2: str = r'[\\b]*(((19|20)?\\d{2})[-/.](0?[1-9]|1[0-2])[-/.](0?[1-9]|[12][0-9]|3[01]))(г|г\\.|год|год\\.)?[\\b]*'     # 2022.12.17\n",
    "CLEAR_DATA_PATTERN_3: str = r'[\\b]*(((0?[1-9]|1[0-2])[-/.](0?[1-9]|[12][0-9]|3[01])[-/.]((19|20)?\\d{2})))(г|г\\.|год|год\\.)?[\\b]*'   # 12/17/2022\n",
    "CLEAR_DATA_PATTERN: str = r'[\\b]*((0?[1-9]|[12][0-9]|3[01])[-/.](0?[1-9]|1[0-2])[-/.]((19|20)?\\d{2})|((19|20)?\\d{2})[-/.](0?[1-9]|1[0-2])[-/.](0?[1-9]|[12][0-9]|3[01])|((0?[1-9]|1[0-2])[-/.](0?[1-9]|[12][0-9]|3[01])[-/.]((19|20)?\\d{2})))(г|г\\.|год|год\\.)?[.\\b]*'\n",
    "CLEAR_YEAR_PATTERN: str = r'[в]?\\s+(?:(\\d{2})|(\\d{4}))\\s*(?:году|год|г.)'\n",
    "\n",
    "# Константы для обработки паттернов\n",
    "CLEAR_AMOUNT_PATTERN: str = r'(?:\\d{1,3}(?:[ ,]\\d{3})*|\\d+)(?:[.,]\\d{1,2})?[\\s]*(?:[₽$€]|(?:рублей|рубля|руб|р|долларов|евро))+[.]?'\n",
    "CLEAR_TEXT_PATTERN_1: str = r'[0-9]+\\s*из\\s*[0-9]+'\n",
    "CLEAR_TEXT_PATTERN_2: str = r'[0-9]+'\n",
    "CLEAR_TEXT_REPLACER: str = r'[^а-яА-Я0-9ёЁ., ]'"
   ]
  },
  {
   "cell_type": "code",
   "execution_count": 49,
   "metadata": {},
   "outputs": [],
   "source": [
    "# Настройки обработок\n",
    "IS_LOWER_TEXT: bool = False\n",
    "IS_E_YO_REPLACE: bool = True\n",
    "\n",
    "IS_DATE_CLEAR_ENABLE: bool = True\n",
    "IS_DATE_ONLY_DELETE: bool = True\n",
    "IS_YEAR_CLEAR_ENABLE: bool = True\n",
    "IS_YEAR_ONLY_DELETE: bool = False\n",
    "\n",
    "IS_AMOUNT_CLEAR_ENABLE: bool = True\n",
    "AMOUNT_CLEAR_CURRENCY: str = 'руб.'\n",
    "\n",
    "IS_PATTERN_N_FROM_M_ENABLE: bool = True\n",
    "IS_ADD_SCORE_TO_N_FROM_M: bool = True\n",
    "\n",
    "IS_PATTERN_N_TO_STR_ENABLE: bool = True\n",
    "\n",
    "IS_FINAL_CLEAR_ENABLE: bool = True"
   ]
  },
  {
   "cell_type": "markdown",
   "metadata": {},
   "source": [
    "#### Служебные функции"
   ]
  },
  {
   "cell_type": "code",
   "execution_count": 50,
   "metadata": {},
   "outputs": [],
   "source": [
    "# Замена текста в определенной позиции\n",
    "def replace_positions(text: str, pos_from: int, pos_to: int, val: str) -> str:\n",
    "    '''Замена текста в определенной позиции'''\n",
    "    return f'{text[:pos_from]}{val}{text[pos_to:]}'"
   ]
  },
  {
   "cell_type": "code",
   "execution_count": 51,
   "metadata": {},
   "outputs": [],
   "source": [
    "# Функция получения числа прописью в родительском падеже\n",
    "def number_to_words_genitive(number):\n",
    "    '''Функция получения родительного падежа прописью'''\n",
    "    if number == 0:\n",
    "        return 'нуля'\n",
    "    units = [\"\", \"одного\", \"двух\", \"трех\", \"четырех\", \"пяти\", \"шести\", \"семи\", \"восьми\", \"девяти\"]\n",
    "    teens = [\"десяти\", \"одиннадцати\", \"двенадцати\", \"тринадцати\", \"четырнадцати\", \"пятнадцати\", \"шестнадцати\", \"семнадцати\", \"восемнадцати\", \"девятнадцати\"]\n",
    "    tens = [\"\", \"десяти\", \"двадцати\", \"тридцати\", \"сорока\", \"пятидесяти\", \"шестидесяти\", \"семидесяти\", \"восьмидесяти\", \"девяноста\"]\n",
    "    hundreds = [\"\", \"ста\", \"двухсот\", \"трёхсот\", \"четырёхсот\", \"пятисот\", \"шестисот\", \"семисот\", \"восьмисот\", \"девятисот\"]\n",
    "    thousands = [\"\", \"одной тысячи\", \"двух тысяч\", \"трёх тысяч\", \"четырёх тысяч\", \"пяти тысяч\", \"шести тысяч\", \"семи тысяч\", \"восьми тысяч\", \"девяти тысяч\"]\n",
    "\n",
    "    if not (0 < number < 1000000):\n",
    "        raise ValueError(f\"Число должно {number} быть в диапазоне от 1 до 999999 включительно.\")\n",
    "\n",
    "    def get_hundreds_part(n):\n",
    "        if n == 0:\n",
    "            return \"\"\n",
    "        elif n < 10:\n",
    "            return units[n] + \" \"\n",
    "        elif n < 20:\n",
    "            return teens[n - 10] + \" \"\n",
    "        else:\n",
    "            return tens[n // 10] + \" \" + units[n % 10] + \" \"\n",
    "\n",
    "    def convert_hundreds(n):\n",
    "        return hundreds[n // 100] + \" \" + get_hundreds_part(n % 100)\n",
    "\n",
    "    result = []\n",
    "    if number >= 1000:\n",
    "        thousands_part = number // 1000\n",
    "        result.append(convert_hundreds(thousands_part) + thousands[thousands_part % 10])\n",
    "        number %= 1000\n",
    "\n",
    "    if number > 0:\n",
    "        result.append(convert_hundreds(number))\n",
    "\n",
    "    return ' '.join(result).strip()\n"
   ]
  },
  {
   "cell_type": "code",
   "execution_count": 52,
   "metadata": {},
   "outputs": [],
   "source": [
    "# Функция получения числа прописью\n",
    "def number_to_words(number):\n",
    "    return num2words(number, lang='ru')"
   ]
  },
  {
   "cell_type": "code",
   "execution_count": 53,
   "metadata": {},
   "outputs": [],
   "source": [
    "# Функция преобразования года (в каком)\n",
    "def year_to_ordinal_text(year):\n",
    "    # Словари для чисел и их подрядковых форм\n",
    "    base_numbers = {\n",
    "        1: 'первом', 2: 'втором', 3: 'третьем', 4: 'четвёртом', 5: 'пятом',\n",
    "        6: 'шестом', 7: 'седьмом', 8: 'восьмом', 9: 'девятом', 10: 'десятом',\n",
    "        11: 'одиннадцатом', 12: 'двенадцатом', 13: 'тринадцатом', 14: 'четырнадцатом',\n",
    "        15: 'пятнадцатом', 16: 'шестнадцатом', 17: 'семнадцатом', 18: 'восемнадцатом',\n",
    "        19: 'девятнадцатом'\n",
    "    }\n",
    "\n",
    "    tens = {\n",
    "        20: 'двадцатом', 30: 'тридцатом', 40: 'сороковом', 50: 'пятидесятом',\n",
    "        60: 'шестидесятом', 70: 'семидесятом', 80: 'восьмидесятом', 90: 'девяностом'\n",
    "    }\n",
    "\n",
    "    hundreds = {\n",
    "        100: 'сотом', 200: 'двухсотом', 300: 'трёхсотом', 400: 'четырёхсотом',\n",
    "        500: 'пятисотом', 600: 'шестисотом', 700: 'семисотом', 800: 'восьмисотом',\n",
    "        900: 'девятисотом'\n",
    "    }\n",
    "\n",
    "    if year < 1900 or year > 2099:\n",
    "        return \"Поддерживаются годы только от 1900 до 2099.\"\n",
    "\n",
    "    if year < 2000:\n",
    "        text = \"тысяча \"\n",
    "        century_part = year // 100 % 10 * 100\n",
    "        decade_part = year % 100\n",
    "        century_text=hundreds.get(century_part, \"\")\n",
    "    else:\n",
    "        text = \"\"\n",
    "        century_text=\"две тысячи \"\n",
    "        decade_part=year%100\n",
    "\n",
    "    if decade_part == 0:\n",
    "        pass\n",
    "    elif decade_part in base_numbers:\n",
    "        text += century_text+\" \"+base_numbers[decade_part]\n",
    "    else:\n",
    "        tens_part = decade_part // 10 * 10\n",
    "        units_part = decade_part % 10\n",
    "        text += century_text+\" \"\n",
    "        text += tens.get(tens_part, \"\")+\" \"\n",
    "        text += base_numbers.get(units_part, \"\")\n",
    "\n",
    "    return text.strip()"
   ]
  },
  {
   "cell_type": "markdown",
   "metadata": {},
   "source": [
    "#### Функция обработки текста"
   ]
  },
  {
   "cell_type": "code",
   "execution_count": 54,
   "metadata": {},
   "outputs": [],
   "source": [
    "# Функции очистки текста\n",
    "def clear_text(text: str,\n",
    "               is_lower: bool = True,\n",
    "               is_e_yo_replace: bool = True\n",
    "               ) -> str:\n",
    "    '''Функция очистки текста'''\n",
    "    val: str = text\n",
    "    if is_lower:\n",
    "        val = val.lower()\n",
    "    val = val \\\n",
    "        .replace(\"\\n\", \" \") \\\n",
    "        .replace(\"\\r\", \" \") \\\n",
    "        .strip()\n",
    "    if is_e_yo_replace:\n",
    "        val: str = re.sub(r'[ёЁ]', 'е', val)\n",
    "    return val"
   ]
  },
  {
   "cell_type": "markdown",
   "metadata": {},
   "source": [
    "#### Функции обработки дат"
   ]
  },
  {
   "cell_type": "code",
   "execution_count": 55,
   "metadata": {},
   "outputs": [],
   "source": [
    "# Очистка и преобразование дат\n",
    "def clear_date(text: str, is_delete: bool = False) -> str:\n",
    "    '''Очистка и преобразование дат'''\n",
    "    # pattern_1: re.Pattern = re.compile(CLEAR_DATA_PATTERN_1)\n",
    "    # pattern_2: re.Pattern = re.compile(CLEAR_DATA_PATTERN_2)\n",
    "    # pattern_3: re.Pattern = re.compile(CLEAR_DATA_PATTERN_3)\n",
    "    pattern: re.Pattern = re.compile(CLEAR_DATA_PATTERN)\n",
    "    if not pattern.findall(text):\n",
    "        return text\n",
    "\n",
    "    matches = list(pattern.finditer(text))\n",
    "    for match in reversed(matches):\n",
    "        match: re.Match = match\n",
    "        val_str: str = ''\n",
    "\n",
    "        # Если дату надо удалить, то удаляем\n",
    "        if is_delete:\n",
    "            text = replace_positions(text, match.start(), match.end(), val_str)\n",
    "            continue\n",
    "\n",
    "        # Тут надо как то обработать даты, но пока просто удаляем\n",
    "        # if pattern_1.match(match.group()) and len(pattern_1.match(match.group()).group()) == len(match.group()):\n",
    "        #     pass\n",
    "        # elif pattern_2.match(match.group()) and len(pattern_2.match(match.group()).group()) == len(match.group()):\n",
    "        #     pass\n",
    "        # elif pattern_3.match(match.group()) and len(pattern_3.match(match.group()).group()) == len(match.group()):\n",
    "        #     pass\n",
    "        # else:\n",
    "        #     pass\n",
    "\n",
    "        text = replace_positions(text, match.start(), match.end(), val_str)\n",
    "    return text"
   ]
  },
  {
   "cell_type": "code",
   "execution_count": 56,
   "metadata": {},
   "outputs": [],
   "source": [
    "# Обработка указания только года\n",
    "def clear_year(text: str, is_delete: bool = False) -> str:\n",
    "    '''Очистка и преобразование года'''\n",
    "    pattern: re.Pattern = re.compile(CLEAR_YEAR_PATTERN)\n",
    "    if not pattern.findall(text):\n",
    "        return text\n",
    "\n",
    "    matches = list(pattern.finditer(text))\n",
    "    for match in reversed(matches):\n",
    "        match: re.Match = match\n",
    "        val_str: str = ''\n",
    "        # Если дату надо удалить, то удаляем\n",
    "        if is_delete:\n",
    "            text = replace_positions(text, match.start(), match.end(), val_str)\n",
    "            continue\n",
    "\n",
    "        # Если захватили год вместе с \"в\",\n",
    "        # то надо будет вернуть эту \"в\"\n",
    "        is_in_year_symbol: bool = False\n",
    "        if 'в' in match.group().lower():\n",
    "            is_in_year_symbol: bool = True\n",
    "\n",
    "        year: int = int(re.sub(r'[^0-9]', '', match.group()))\n",
    "        val_str: str = f'{\" в\" if is_in_year_symbol else \"\"}'\n",
    "        val_str: str = f'{val_str} {year_to_ordinal_text(year)}'\n",
    "\n",
    "        text = replace_positions(text, match.start(), match.end(), val_str)\n",
    "    return text"
   ]
  },
  {
   "cell_type": "markdown",
   "metadata": {},
   "source": [
    "#### Функции обработки сумм"
   ]
  },
  {
   "cell_type": "code",
   "execution_count": 57,
   "metadata": {},
   "outputs": [],
   "source": [
    "# Функция преобразования сумм числами в прописные\n",
    "def clear_amount(text: str, amount_currency: str) -> str:\n",
    "    '''Функция преобразования сумм числами в прописные'''\n",
    "    pattern: re.Pattern = re.compile(CLEAR_AMOUNT_PATTERN)\n",
    "    if not pattern.findall(text):\n",
    "        return text\n",
    "\n",
    "    for match in reversed(list(pattern.finditer(text))):\n",
    "        match: re.Match = match\n",
    "\n",
    "        val_str: str = re.sub(r'[^0-9.,]+', '', match.group())\n",
    "        val_str: str = val_str.strip('.,')\n",
    "\n",
    "        if ',' in val_str:\n",
    "            parts = re.split(r'[.,]', val_str)\n",
    "            val_str = ''\n",
    "            for i, p in enumerate(parts):\n",
    "                val_str = f'{val_str}{p}'\n",
    "                if i == len(parts) - 2:\n",
    "                    val_str = f'{val_str}.'\n",
    "\n",
    "        val: float = float(val_str)\n",
    "\n",
    "        val_str: str = f\"{number_to_words(val)} {amount_currency}\"\n",
    "        text = replace_positions(text, match.start(), match.end(), val_str)\n",
    "    return text"
   ]
  },
  {
   "cell_type": "markdown",
   "metadata": {},
   "source": [
    "#### Обработка паттерна оценки \"n из m\""
   ]
  },
  {
   "cell_type": "code",
   "execution_count": 58,
   "metadata": {},
   "outputs": [],
   "source": [
    "# Функция получения текста из паттерна: n из m\n",
    "def clear_pattern_1(text: str, add_score: bool = False) -> str:\n",
    "    '''Функция получения текста из паттерна: n из m'''\n",
    "\n",
    "    def get_str_score(val: int, val_base: int) -> str:\n",
    "        if not val_base:\n",
    "            return ''\n",
    "        perc: float = ((val / val_base) * 100)\n",
    "        if val > val_base:\n",
    "            return 'супер'\n",
    "        if val == val_base or perc > 90:\n",
    "            return 'отлично'\n",
    "        if perc > 75:\n",
    "            return 'хорошо'\n",
    "        if perc > 50:\n",
    "            return 'нормально'\n",
    "        return 'плохо'\n",
    "\n",
    "    pattern: re.Pattern = re.compile(CLEAR_TEXT_PATTERN_1)\n",
    "    if not pattern.findall(text):\n",
    "        return text\n",
    "\n",
    "    for match in reversed(list(pattern.finditer(text))):\n",
    "        match: re.Match = match\n",
    "        vals: list[int] = [int(re.sub(r'[^0-9]+', '', v)) for v in str(match.group()).split(\"из\")]\n",
    "        val_str: str = f'{number_to_words(vals[0])} из {number_to_words_genitive(vals[1])}'\n",
    "\n",
    "        if add_score:\n",
    "            val_str: str = f'{val_str} {get_str_score(vals[0], vals[1])}'\n",
    "        text = replace_positions(text, match.start(), match.end(), val_str)\n",
    "    return text"
   ]
  },
  {
   "cell_type": "markdown",
   "metadata": {},
   "source": [
    "#### Обработка паттерна \"n в число\""
   ]
  },
  {
   "cell_type": "code",
   "execution_count": 59,
   "metadata": {},
   "outputs": [],
   "source": [
    "# Функция получения текста из паттерна: n (число)\n",
    "def clear_pattern_2(text: str) -> str:\n",
    "    '''Функция получения текста из паттерна: n (число)'''\n",
    "\n",
    "    pattern: re.Pattern = re.compile(CLEAR_TEXT_PATTERN_2)\n",
    "    if not pattern.findall(text):\n",
    "        return text\n",
    "\n",
    "    for match in reversed(list(pattern.finditer(text))):\n",
    "        match: re.Match = match\n",
    "\n",
    "        val_str: str = f'{number_to_words(int(match.group()))}'\n",
    "\n",
    "        text = replace_positions(text, match.start(), match.end(), val_str)\n",
    "    return text"
   ]
  },
  {
   "cell_type": "markdown",
   "metadata": {},
   "source": [
    "#### Финальная (грубая зачистка)"
   ]
  },
  {
   "cell_type": "code",
   "execution_count": 60,
   "metadata": {},
   "outputs": [],
   "source": [
    "# Функция финальной (грубой) зачистки\n",
    "def final_clear(text: str) -> str:\n",
    "    '''Финальная (грубая) зачистка'''\n",
    "    text = re.sub(CLEAR_TEXT_REPLACER, ' ', text)\n",
    "    # text = re.sub(r\"\\s+\", \" \", text).strip()\n",
    "    return text"
   ]
  },
  {
   "cell_type": "markdown",
   "metadata": {},
   "source": [
    "#### Демо тест очистки данных"
   ]
  },
  {
   "cell_type": "code",
   "execution_count": 61,
   "metadata": {},
   "outputs": [
    {
     "name": "stdout",
     "output_type": "stream",
     "text": [
      "Хороший сервис, быстро отремонтировали подвеску на Мерседесе  четыре из трех супер И все по честному, не навязывают лишних услуг  Спасибо            Ого. Отзыв собрал одна тысяча просмотров. Но больше удивляет, что  в две тысячи  восемнадцатом у меня оказывается был Мерседес  прав к тому году не было .     И я что то чинил и мне понравиллсь. Во дела. Походу сервис так себе, раз лайки накручивают. Аккуратнее    Ну и судя по комментариям организации,     там не совсем вменяемые ребята .   Не просто невменяемые, а еще  и клоуны. Я тоже с вашей шарагой, благо не знаком.     Тем более не мог оставлять Вам отзывы не являясь владельцем ТС. Судя по тому, что публикуете у себя левые отзывы, си реальными проблема.     А так как вы позволяете себе общаться и пытаться какие диагнозы ставить   это о многом говорит. Стоило это три целых четыре десятых руб. триста тринадцать целых сорок одна сотая руб.\n"
     ]
    }
   ],
   "source": [
    "s = '''\n",
    "    Хороший сервис, быстро отремонтировали подвеску на Мерседесе! 4 из 3 И все по честному, не навязывают лишних услуг! Спасибо)\\n\\n\\n\n",
    "    17.12.2022г. - Ого. Отзыв собрал 1000 просмотров. Но больше удивляет, что в 2018 году у меня оказывается был Мерседес (прав к тому году не было).\n",
    "    И я что то чинил и мне понравиллсь. Во дела. Походу сервис так себе, раз лайки накручивают. Аккуратнее! \\n\\nНу и судя по комментариям организации,\n",
    "    там не совсем вменяемые ребята).\\n\\n26.03.23г Не просто невменяемые, а ещё  и клоуны. Я тоже с вашей шарагой, благо не знаком.\n",
    "    Тем более не мог оставлять Вам отзывы не являясь владельцем ТС. Судя по тому, что публикуете у себя левые отзывы, си реальными проблема.\n",
    "    А так как вы позволяете себе общаться и пытаться какие диагнозы ставить - это о многом говорит. Стоило это 3.4 рублей 313,41руб\n",
    "    '''\n",
    "\n",
    "s: str = clear_text(text=s, is_lower=IS_LOWER_TEXT, is_e_yo_replace=IS_E_YO_REPLACE)\n",
    "\n",
    "if IS_DATE_CLEAR_ENABLE:\n",
    "    s: str = clear_date(text=s, is_delete=IS_DATE_ONLY_DELETE)\n",
    "\n",
    "if IS_YEAR_CLEAR_ENABLE:\n",
    "    s: str = clear_year(text=s, is_delete=IS_YEAR_ONLY_DELETE)\n",
    "\n",
    "if IS_AMOUNT_CLEAR_ENABLE:\n",
    "    s: str = clear_amount(text=s, amount_currency=AMOUNT_CLEAR_CURRENCY)\n",
    "\n",
    "if IS_PATTERN_N_FROM_M_ENABLE:\n",
    "    s: str = clear_pattern_1(text=s, add_score=IS_ADD_SCORE_TO_N_FROM_M)\n",
    "\n",
    "if IS_PATTERN_N_TO_STR_ENABLE:\n",
    "    s: str = clear_pattern_2(text=s)\n",
    "\n",
    "if IS_FINAL_CLEAR_ENABLE:\n",
    "    s: str = final_clear(text=s)\n",
    "\n",
    "print(s)"
   ]
  },
  {
   "cell_type": "markdown",
   "metadata": {},
   "source": [
    "#### Запуск очистки данных"
   ]
  },
  {
   "cell_type": "code",
   "execution_count": 67,
   "metadata": {},
   "outputs": [
    {
     "name": "stderr",
     "output_type": "stream",
     "text": [
      "100%|██████████| 499800/499800 [00:01<00:00, 348970.19it/s]\n",
      "100%|██████████| 499800/499800 [00:21<00:00, 23550.38it/s]\n",
      "100%|██████████| 499800/499800 [00:05<00:00, 95716.85it/s]\n",
      "100%|██████████| 499800/499800 [00:06<00:00, 81203.36it/s]\n",
      "100%|██████████| 499800/499800 [00:02<00:00, 197320.23it/s]\n",
      "100%|██████████| 499800/499800 [00:04<00:00, 103508.31it/s]\n",
      "100%|██████████| 499800/499800 [00:01<00:00, 285839.42it/s]\n"
     ]
    },
    {
     "data": {
      "text/html": [
       "<div>\n",
       "<style scoped>\n",
       "    .dataframe tbody tr th:only-of-type {\n",
       "        vertical-align: middle;\n",
       "    }\n",
       "\n",
       "    .dataframe tbody tr th {\n",
       "        vertical-align: top;\n",
       "    }\n",
       "\n",
       "    .dataframe thead th {\n",
       "        text-align: right;\n",
       "    }\n",
       "</style>\n",
       "<table border=\"1\" class=\"dataframe\">\n",
       "  <thead>\n",
       "    <tr style=\"text-align: right;\">\n",
       "      <th></th>\n",
       "      <th>rating</th>\n",
       "      <th>rubrics</th>\n",
       "      <th>text</th>\n",
       "      <th>rating_int</th>\n",
       "      <th>rubrics_list</th>\n",
       "      <th>cleared_text</th>\n",
       "    </tr>\n",
       "  </thead>\n",
       "  <tbody>\n",
       "    <tr>\n",
       "      <th>0</th>\n",
       "      <td>3.</td>\n",
       "      <td>Жилой комплекс</td>\n",
       "      <td>Московский квартал 2.\\nШумно : летом по ночам ...</td>\n",
       "      <td>3</td>\n",
       "      <td>[жилой комплекс]</td>\n",
       "      <td>Московский квартал два.  Шумно   летом по ноча...</td>\n",
       "    </tr>\n",
       "    <tr>\n",
       "      <th>1</th>\n",
       "      <td>5.</td>\n",
       "      <td>Магазин продуктов;Продукты глубокой заморозки;...</td>\n",
       "      <td>Замечательная сеть магазинов в общем, хороший ...</td>\n",
       "      <td>5</td>\n",
       "      <td>[магазин продуктов, продукты глубокой заморозк...</td>\n",
       "      <td>Замечательная сеть магазинов в общем, хороший ...</td>\n",
       "    </tr>\n",
       "    <tr>\n",
       "      <th>2</th>\n",
       "      <td>1.</td>\n",
       "      <td>Фитнес-клуб</td>\n",
       "      <td>Не знаю смутят ли кого-то данные правила, но я...</td>\n",
       "      <td>1</td>\n",
       "      <td>[фитнес клуб]</td>\n",
       "      <td>Не знаю смутят ли кого то данные правила, но я...</td>\n",
       "    </tr>\n",
       "    <tr>\n",
       "      <th>3</th>\n",
       "      <td>4.</td>\n",
       "      <td>Пункт проката;Прокат велосипедов;Сапсёрфинг</td>\n",
       "      <td>Хорошие условия аренды. \\nДружелюбный персонал...</td>\n",
       "      <td>4</td>\n",
       "      <td>[пункт проката, прокат велосипедов, сапсёрфинг]</td>\n",
       "      <td>Хорошие условия аренды.   Дружелюбный персонал...</td>\n",
       "    </tr>\n",
       "    <tr>\n",
       "      <th>4</th>\n",
       "      <td>5.</td>\n",
       "      <td>Салон красоты;Визажисты, стилисты;Салон бровей...</td>\n",
       "      <td>Топ мастер Ангелина топ во всех смыслах ) Немн...</td>\n",
       "      <td>5</td>\n",
       "      <td>[салон красоты, визажисты, стилисты, салон бро...</td>\n",
       "      <td>Топ мастер Ангелина топ во всех смыслах   Немн...</td>\n",
       "    </tr>\n",
       "  </tbody>\n",
       "</table>\n",
       "</div>"
      ],
      "text/plain": [
       "  rating                                            rubrics  \\\n",
       "0     3.                                     Жилой комплекс   \n",
       "1     5.  Магазин продуктов;Продукты глубокой заморозки;...   \n",
       "2     1.                                        Фитнес-клуб   \n",
       "3     4.        Пункт проката;Прокат велосипедов;Сапсёрфинг   \n",
       "4     5.  Салон красоты;Визажисты, стилисты;Салон бровей...   \n",
       "\n",
       "                                                text  rating_int  \\\n",
       "0  Московский квартал 2.\\nШумно : летом по ночам ...           3   \n",
       "1  Замечательная сеть магазинов в общем, хороший ...           5   \n",
       "2  Не знаю смутят ли кого-то данные правила, но я...           1   \n",
       "3  Хорошие условия аренды. \\nДружелюбный персонал...           4   \n",
       "4  Топ мастер Ангелина топ во всех смыслах ) Немн...           5   \n",
       "\n",
       "                                        rubrics_list  \\\n",
       "0                                   [жилой комплекс]   \n",
       "1  [магазин продуктов, продукты глубокой заморозк...   \n",
       "2                                      [фитнес клуб]   \n",
       "3    [пункт проката, прокат велосипедов, сапсёрфинг]   \n",
       "4  [салон красоты, визажисты, стилисты, салон бро...   \n",
       "\n",
       "                                        cleared_text  \n",
       "0  Московский квартал два.  Шумно   летом по ноча...  \n",
       "1  Замечательная сеть магазинов в общем, хороший ...  \n",
       "2  Не знаю смутят ли кого то данные правила, но я...  \n",
       "3  Хорошие условия аренды.   Дружелюбный персонал...  \n",
       "4  Топ мастер Ангелина топ во всех смыслах   Немн...  "
      ]
     },
     "execution_count": 67,
     "metadata": {},
     "output_type": "execute_result"
    }
   ],
   "source": [
    "# Очистка и подготовка данных\n",
    "cleared_text: pd.Series = df_data_clear['text'] \\\n",
    "    .progress_apply(clear_text, args=(\n",
    "        IS_LOWER_TEXT, IS_E_YO_REPLACE))\n",
    "\n",
    "if IS_DATE_CLEAR_ENABLE:\n",
    "    cleared_text: pd.Series = cleared_text \\\n",
    "        .progress_apply(clear_date, args=(\n",
    "            IS_DATE_ONLY_DELETE,))\n",
    "\n",
    "if IS_YEAR_CLEAR_ENABLE:\n",
    "    cleared_text: pd.Series = cleared_text \\\n",
    "        .progress_apply(clear_year, args=(\n",
    "            IS_YEAR_ONLY_DELETE,))\n",
    "\n",
    "if IS_AMOUNT_CLEAR_ENABLE:\n",
    "    cleared_text: pd.Series = cleared_text \\\n",
    "        .progress_apply(clear_amount, args=(\n",
    "            AMOUNT_CLEAR_CURRENCY,))\n",
    "\n",
    "if IS_PATTERN_N_FROM_M_ENABLE:\n",
    "    cleared_text: pd.Series = cleared_text \\\n",
    "        .progress_apply(clear_pattern_1, args=(\n",
    "            IS_ADD_SCORE_TO_N_FROM_M,))\n",
    "\n",
    "if IS_PATTERN_N_TO_STR_ENABLE:\n",
    "    cleared_text: pd.Series = cleared_text \\\n",
    "        .progress_apply(clear_pattern_2)\n",
    "\n",
    "if IS_FINAL_CLEAR_ENABLE:\n",
    "    cleared_text: pd.Series = cleared_text \\\n",
    "        .progress_apply(final_clear)\n",
    "\n",
    "# Возрат данных в датасет\n",
    "df_data_clear['cleared_text'] = cleared_text\n",
    "df_data_clear.head(5)"
   ]
  },
  {
   "cell_type": "code",
   "execution_count": 63,
   "metadata": {},
   "outputs": [
    {
     "name": "stdout",
     "output_type": "stream",
     "text": [
      "<class 'pandas.core.frame.DataFrame'>\n",
      "Index: 499800 entries, 0 to 499999\n",
      "Data columns (total 6 columns):\n",
      " #   Column        Non-Null Count   Dtype \n",
      "---  ------        --------------   ----- \n",
      " 0   rating        499800 non-null  object\n",
      " 1   rubrics       499800 non-null  object\n",
      " 2   text          499800 non-null  object\n",
      " 3   rating_int    499800 non-null  int64 \n",
      " 4   rubrics_list  499800 non-null  object\n",
      " 5   cleared_text  499800 non-null  object\n",
      "dtypes: int64(1), object(5)\n",
      "memory usage: 26.7+ MB\n"
     ]
    }
   ],
   "source": [
    "# Инфо датасета\n",
    "df_data_clear.info()"
   ]
  },
  {
   "cell_type": "markdown",
   "metadata": {},
   "source": [
    "## Сохранение датасета"
   ]
  },
  {
   "cell_type": "code",
   "execution_count": 64,
   "metadata": {},
   "outputs": [],
   "source": [
    "# Сохранение обработанных данных\n",
    "# Убрали столбцы, которые больше не нужны\n",
    "df_data_clear \\\n",
    "    .drop(['rating'], axis=1) \\\n",
    "    .drop(['rubrics'], axis=1) \\\n",
    "    .drop(['text'], axis=1) \\\n",
    "    .to_csv(\n",
    "        os.path.join(CLEARED_DATASET_PATH, 'cleared_dataset.csv'),\n",
    "        sep=';',\n",
    "        encoding='utf-8-sig',\n",
    "        index_label='indx')"
   ]
  }
 ],
 "metadata": {
  "kernelspec": {
   "display_name": ".venv",
   "language": "python",
   "name": "python3"
  },
  "language_info": {
   "codemirror_mode": {
    "name": "ipython",
    "version": 3
   },
   "file_extension": ".py",
   "mimetype": "text/x-python",
   "name": "python",
   "nbconvert_exporter": "python",
   "pygments_lexer": "ipython3",
   "version": "3.11.8"
  }
 },
 "nbformat": 4,
 "nbformat_minor": 2
}
