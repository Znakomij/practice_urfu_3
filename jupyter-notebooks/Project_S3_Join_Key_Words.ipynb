{
 "cells": [
  {
   "cell_type": "markdown",
   "metadata": {},
   "source": [
    "# Соединение ключевых слов для Проектного практикума - Учебная задача (семестр 3)\n",
    "\n",
    "Черновое решение"
   ]
  },
  {
   "cell_type": "markdown",
   "metadata": {},
   "source": [
    "## Установка зависимостей (если не установлены ранее)"
   ]
  },
  {
   "cell_type": "code",
   "execution_count": 1,
   "metadata": {},
   "outputs": [],
   "source": [
    "# Установка зависимостей для параллельной обработки и блокнота\n",
    "# %pip install pandas ipywidgets jupyter IProgress protobuf joblib tdqm"
   ]
  },
  {
   "cell_type": "markdown",
   "metadata": {},
   "source": [
    "## Импорты, константы и настройки"
   ]
  },
  {
   "cell_type": "code",
   "execution_count": 2,
   "metadata": {},
   "outputs": [],
   "source": [
    "# Импорт зависимостей\n",
    "from os.path import join as path_join\n",
    "from os import walk as dir_walk\n",
    "\n",
    "from re import split as re_split\n",
    "\n",
    "from tqdm import tqdm\n",
    "\n",
    "\n",
    "import pandas as pd"
   ]
  },
  {
   "cell_type": "code",
   "execution_count": 3,
   "metadata": {},
   "outputs": [],
   "source": [
    "# Константы\n",
    "PATH_TO_KW_PARTS: str = '.././data/cleared/key_words/'\n",
    "NAME_OF_KW_PARTS: str = 'key_words'\n",
    "\n",
    "PATH_TO_DS: str = '.././data/cleared/'\n",
    "DS_FILENAME: str = 'cleared_dataset.csv'"
   ]
  },
  {
   "cell_type": "markdown",
   "metadata": {},
   "source": [
    "## Чтение датасета"
   ]
  },
  {
   "cell_type": "code",
   "execution_count": 4,
   "metadata": {},
   "outputs": [
    {
     "name": "stdout",
     "output_type": "stream",
     "text": [
      "<class 'pandas.core.frame.DataFrame'>\n",
      "Index: 499800 entries, 0 to 499999\n",
      "Data columns (total 3 columns):\n",
      " #   Column        Non-Null Count   Dtype \n",
      "---  ------        --------------   ----- \n",
      " 0   rating_int    499800 non-null  int64 \n",
      " 1   rubrics_list  499800 non-null  object\n",
      " 2   cleared_text  499800 non-null  object\n",
      "dtypes: int64(1), object(2)\n",
      "memory usage: 15.3+ MB\n"
     ]
    }
   ],
   "source": [
    "# Чтение основного датасета\n",
    "df_data: pd.DataFrame = pd.read_csv(\n",
    "    path_join(PATH_TO_DS, DS_FILENAME),\n",
    "    sep=';',\n",
    "    index_col='indx')\n",
    "df_data.info()"
   ]
  },
  {
   "cell_type": "code",
   "execution_count": 5,
   "metadata": {},
   "outputs": [
    {
     "name": "stdout",
     "output_type": "stream",
     "text": [
      "<class 'pandas.core.frame.DataFrame'>\n",
      "Index: 499800 entries, 0 to 499999\n",
      "Data columns (total 4 columns):\n",
      " #   Column        Non-Null Count   Dtype \n",
      "---  ------        --------------   ----- \n",
      " 0   rating_int    499800 non-null  int64 \n",
      " 1   rubrics_list  499800 non-null  object\n",
      " 2   cleared_text  499800 non-null  object\n",
      " 3   key_words     0 non-null       object\n",
      "dtypes: int64(1), object(3)\n",
      "memory usage: 19.1+ MB\n"
     ]
    }
   ],
   "source": [
    "# Добавление пустой колонки для ключевых слов\n",
    "df_data['key_words'] = pd.Series(dtype='object')\n",
    "df_data.info()"
   ]
  },
  {
   "cell_type": "markdown",
   "metadata": {},
   "source": [
    "## Чтение ключевых слов"
   ]
  },
  {
   "cell_type": "code",
   "execution_count": 6,
   "metadata": {},
   "outputs": [
    {
     "name": "stderr",
     "output_type": "stream",
     "text": [
      "Поиск файлов: 100%|██████████| 1000/1000 [00:00<?, ?it/s]"
     ]
    },
    {
     "name": "stdout",
     "output_type": "stream",
     "text": [
      "Прочитано 1000 файла(ов)\n"
     ]
    },
    {
     "name": "stderr",
     "output_type": "stream",
     "text": [
      "\n"
     ]
    }
   ],
   "source": [
    "# Чтение списка файлов с ключевыми словами и их именных индексов\n",
    "kw_files: list[tuple[str, int, int]] = []\n",
    "for (dirpath, dirnames, filenames) in dir_walk(PATH_TO_KW_PARTS):\n",
    "    for filename in tqdm(filenames, 'Поиск файлов: '):\n",
    "        if not filename.startswith(NAME_OF_KW_PARTS): continue\n",
    "        # Определение именных индексов\n",
    "        name_parts: list[str] = re_split(r'[_\\.]', filename)\n",
    "        kw_file: tuple[str, int, int] = (filename, int(name_parts[2]), int(name_parts[3]))\n",
    "        kw_files.append(kw_file)\n",
    "\n",
    "# Сортировка по индексам\n",
    "kw_files.sort(key=lambda f: f[1])\n",
    "\n",
    "print(f'Прочитано {len(kw_files)} файла(ов)')"
   ]
  },
  {
   "cell_type": "code",
   "execution_count": 7,
   "metadata": {},
   "outputs": [
    {
     "name": "stdout",
     "output_type": "stream",
     "text": [
      "[]\n"
     ]
    }
   ],
   "source": [
    "# Вывод диапазонов, которые не прочитаны\n",
    "missing_files: list[tuple[int, int]] = []\n",
    "tmp_kw_file: tuple[int, int] = None\n",
    "for filename, f, t in kw_files:\n",
    "    if tmp_kw_file is None:\n",
    "        tmp_kw_file = (f, t)\n",
    "        continue\n",
    "    if f == tmp_kw_file[1]:\n",
    "        tmp_kw_file = (f, t)\n",
    "        continue\n",
    "    missing_files.append((tmp_kw_file[1], f))\n",
    "    tmp_kw_file = (f, t)\n",
    "        \n",
    "\n",
    "print(missing_files)"
   ]
  },
  {
   "cell_type": "code",
   "execution_count": 8,
   "metadata": {},
   "outputs": [],
   "source": [
    "def parse_kw_file(filename: str) -> list[tuple[int, list[str]]]:\n",
    "    '''Функция чтения ключевых слов из файла'''\n",
    "    df_kw: pd.DataFrame = None\n",
    "    # try:\n",
    "    df_kw = pd.read_csv(\n",
    "        path_join(PATH_TO_KW_PARTS, filename),\n",
    "        sep=';',\n",
    "        index_col='indx')\n",
    "    result_list: list[tuple[int, list[str]]] = []\n",
    "    for indx, kw in df_kw['0'].items():\n",
    "        result: tuple[int, list[str]] = (indx, kw)\n",
    "        result_list.append(result)\n",
    "    return result_list"
   ]
  },
  {
   "cell_type": "code",
   "execution_count": 9,
   "metadata": {},
   "outputs": [
    {
     "name": "stderr",
     "output_type": "stream",
     "text": [
      "Чтение файлов: 100%|██████████| 1000/1000 [00:34<00:00, 28.68it/s]\n"
     ]
    }
   ],
   "source": [
    "# Чтение данных из файла, анализ индексов внутри\n",
    "result_list: list[tuple[int, list[str]]] = []\n",
    "for kw_file, fr, to in tqdm(kw_files, 'Чтение файлов: '):\n",
    "    kw_content: list[tuple[int, list[str]]] = parse_kw_file(kw_file)\n",
    "    for indx, kw in kw_content:\n",
    "        if not indx in df_data.index:\n",
    "            print(indx, kw)\n",
    "            continue\n",
    "        df_data.loc[indx, 'key_words'] = kw"
   ]
  },
  {
   "cell_type": "code",
   "execution_count": 10,
   "metadata": {},
   "outputs": [
    {
     "name": "stdout",
     "output_type": "stream",
     "text": [
      "Не прочитано 0 индексов\n"
     ]
    }
   ],
   "source": [
    "# Список индексов с пустыми ключевыми словами\n",
    "empty_kw_indexes: list[int] = df_data.loc[df_data['key_words'].isnull()].index.to_list()\n",
    "print(f'Не прочитано {len(empty_kw_indexes)} индексов')"
   ]
  },
  {
   "cell_type": "markdown",
   "metadata": {},
   "source": [
    "## Сохранение датасета"
   ]
  },
  {
   "cell_type": "code",
   "execution_count": 11,
   "metadata": {},
   "outputs": [],
   "source": [
    "# Сохранение датасета \n",
    "df_data.to_csv(\n",
    "    path_join(PATH_TO_DS, f'kw_{DS_FILENAME}'),\n",
    "    sep=';', \n",
    "    encoding='utf-8-sig',\n",
    "    index_label='indx')"
   ]
  },
  {
   "cell_type": "code",
   "execution_count": 34,
   "metadata": {},
   "outputs": [
    {
     "name": "stderr",
     "output_type": "stream",
     "text": [
      "100%|██████████| 499800/499800 [00:03<00:00, 137772.53it/s]\n"
     ]
    },
    {
     "data": {
      "text/plain": [
       "интернет-маркетинг       50755\n",
       "удалённая работа         49618\n",
       "гаджеты                  47657\n",
       "дизайн                   42155\n",
       "интернет-магазин         38861\n",
       "                         ...  \n",
       "ёлткарино                    1\n",
       "5 калифорнийка               1\n",
       "ёлагин                       1\n",
       "ёлка большая пушистая        1\n",
       "ёлка для гиков               1\n",
       "Name: count, Length: 70387, dtype: int64"
      ]
     },
     "execution_count": 34,
     "metadata": {},
     "output_type": "execute_result"
    }
   ],
   "source": [
    "# Сохранение ключевых слов\n",
    "kw_unic_list: list[str] = []\n",
    "for kw in tqdm(df_data['key_words'].to_list()):\n",
    "    kws = list(eval(kw))\n",
    "    if len(kws) == 0: \n",
    "        continue\n",
    "    kw_unic_list.extend(kws)\n",
    "\n",
    "# Формирование набора\n",
    "kw_unic_series: pd.Series = pd.Series(\n",
    "    sorted(kw_unic_list)) \\\n",
    "        .value_counts()\n",
    "kw_unic_series"
   ]
  },
  {
   "cell_type": "code",
   "execution_count": 35,
   "metadata": {},
   "outputs": [],
   "source": [
    "# Сохранение набора ключевых слов\n",
    "kw_unic_series.to_csv(\n",
    "    path_join(PATH_TO_DS, 'kws.csv'),\n",
    "    sep=';', \n",
    "    encoding='utf-8-sig',\n",
    "    index_label='indx')"
   ]
  }
 ],
 "metadata": {
  "kernelspec": {
   "display_name": ".venv",
   "language": "python",
   "name": "python3"
  },
  "language_info": {
   "codemirror_mode": {
    "name": "ipython",
    "version": 3
   },
   "file_extension": ".py",
   "mimetype": "text/x-python",
   "name": "python",
   "nbconvert_exporter": "python",
   "pygments_lexer": "ipython3",
   "version": "3.11.8"
  }
 },
 "nbformat": 4,
 "nbformat_minor": 2
}
